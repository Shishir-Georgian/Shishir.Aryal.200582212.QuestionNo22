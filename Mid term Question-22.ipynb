{
 "cells": [
  {
   "cell_type": "markdown",
   "id": "9f17a695",
   "metadata": {},
   "source": [
    "# Question No-22"
   ]
  },
  {
   "cell_type": "markdown",
   "id": "a1227aed",
   "metadata": {},
   "source": [
    "+---------------+---------+\n",
    "| Column Name   | Type    |\n",
    "+---------------+---------+\n",
    "| id            | int     |\n",
    "| recordDate    | date    |\n",
    "| temperature   | int     |\n",
    "+---------------+---------+\n",
    "id is the column with unique values for this table.\n",
    "This table contains information about the temperature on a certain day.\n",
    " \n",
    " \n",
    "\n",
    "Write a solution to find all dates' Id with higher temperatures compared to its previous dates (yesterday).\n",
    "\n",
    "Return the result table in any order.\n",
    "\n",
    "Please use the following input Weather table for your solution. To receive full marks you will need to create the database, create the table, insert the data below and execute the SQL query.\n",
    "\n",
    " \n",
    "\n",
    "Input: \n",
    "Weather table:\n",
    "+----+------------+-------------+\n",
    "| id | recordDate | temperature |\n",
    "+----+------------+-------------+\n",
    "| 1  | 2015-01-01 | 10          |\n",
    "| 2  | 2015-01-02 | 25          |\n",
    "| 3  | 2015-01-03 | 20          |\n",
    "| 4  | 2015-01-04 | 30          |\n",
    "+----+------------+-------------+\n",
    "Output: \n",
    "+----+\n",
    "| id |\n",
    "+----+\n",
    "| 2  |\n",
    "| 4  |\n",
    "+----+\n",
    "Explanation: \n",
    "In 2015-01-02, the temperature was higher than the previous day (10 -> 25).\n",
    "In 2015-01-04, the temperature was higher than the previous day (20 -> 30)."
   ]
  },
  {
   "cell_type": "code",
   "execution_count": 1,
   "id": "78e9dac1",
   "metadata": {},
   "outputs": [
    {
     "name": "stdout",
     "output_type": "stream",
     "text": [
      "Output:\n",
      "2\n",
      "4\n"
     ]
    }
   ],
   "source": [
    "import sqlite3\n",
    "\n",
    "conn = sqlite3.connect('hell.db')\n",
    "cur = conn.cursor()\n",
    "# Creating the table and inserting values\n",
    "cur.execute('''CREATE TABLE IF NOT EXISTS hell (\n",
    "              id INTEGER PRIMARY KEY,\n",
    "              recordDate DATE,\n",
    "              temperature INTEGER\n",
    "              )''')\n",
    "\n",
    "data = [\n",
    "   (1, '2015-01-01', 10),\n",
    "   (2, '2015-01-02', 25),\n",
    "   (3, '2015-01-03', 20),\n",
    "   (4, '2015-01-04', 30)\n",
    "]\n",
    "cur.executemany('INSERT INTO hell VALUES (?, ?, ?)', data)\n",
    "conn.commit()\n",
    "\n",
    "cur.execute('''SELECT w.id\n",
    "              FROM hell w\n",
    "              JOIN hell w_prev ON w.id = w_prev.id + 1\n",
    "              WHERE w.temperature > w_prev.temperature\n",
    "              ''')\n",
    "\n",
    "rows = cur.fetchall() \n",
    "print(\"Output:\")\n",
    "for row in rows:\n",
    "   print(row[0])\n",
    "\n",
    "conn.close()"
   ]
  },
  {
   "cell_type": "code",
   "execution_count": null,
   "id": "549a1523",
   "metadata": {},
   "outputs": [],
   "source": []
  }
 ],
 "metadata": {
  "kernelspec": {
   "display_name": "Python 3 (ipykernel)",
   "language": "python",
   "name": "python3"
  },
  "language_info": {
   "codemirror_mode": {
    "name": "ipython",
    "version": 3
   },
   "file_extension": ".py",
   "mimetype": "text/x-python",
   "name": "python",
   "nbconvert_exporter": "python",
   "pygments_lexer": "ipython3",
   "version": "3.11.5"
  }
 },
 "nbformat": 4,
 "nbformat_minor": 5
}
